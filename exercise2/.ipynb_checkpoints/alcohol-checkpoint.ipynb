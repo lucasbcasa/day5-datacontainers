{
 "cells": [
  {
   "cell_type": "markdown",
   "metadata": {},
   "source": [
    "# Ex - GroupBy"
   ]
  },
  {
   "cell_type": "markdown",
   "metadata": {},
   "source": [
    "### Introduction:\n",
    "\n",
    "GroupBy can be summarizes as Split-Apply-Combine.\n",
    "\n",
    "Special thanks to: https://github.com/justmarkham for sharing the dataset and materials.\n",
    "\n",
    "Check out this [Diagram](http://i.imgur.com/yjNkiwL.png)  \n",
    "### Step 1. Import the necessary libraries"
   ]
  },
  {
   "cell_type": "code",
   "execution_count": 2,
   "metadata": {
    "collapsed": false,
    "jupyter": {
     "outputs_hidden": false
    }
   },
   "outputs": [],
   "source": [
    "import pandas as pd"
   ]
  },
  {
   "cell_type": "markdown",
   "metadata": {},
   "source": [
    "### Step 2. Import the dataset from this [address](https://raw.githubusercontent.com/justmarkham/DAT8/master/data/drinks.csv). "
   ]
  },
  {
   "cell_type": "markdown",
   "metadata": {},
   "source": [
    "### Step 3. Assign it to a variable called drinks."
   ]
  },
  {
   "cell_type": "code",
   "execution_count": 4,
   "metadata": {
    "collapsed": false,
    "jupyter": {
     "outputs_hidden": false
    }
   },
   "outputs": [],
   "source": [
    "file = './drinks.csv'\n",
    "drinks = pd.read_csv(file)\n",
    "drinks = drinks.set_index('continent')"
   ]
  },
  {
   "cell_type": "markdown",
   "metadata": {},
   "source": [
    "### Step 4. Which continent drinks more beer on average?"
   ]
  },
  {
   "cell_type": "code",
   "execution_count": 17,
   "metadata": {
    "collapsed": false,
    "jupyter": {
     "outputs_hidden": false
    }
   },
   "outputs": [
    {
     "name": "stdout",
     "output_type": "stream",
     "text": [
      "Continent that drinks most beers:  EU\n"
     ]
    }
   ],
   "source": [
    "beers = drinks.beer_servings\n",
    "beers_avg = beers.groupby('continent').mean()\n",
    "print(\"Continent that drinks most beers: \", beers_avg.idxmax())"
   ]
  },
  {
   "cell_type": "markdown",
   "metadata": {},
   "source": [
    "### Step 5. For each continent print the statistics for wine consumption."
   ]
  },
  {
   "cell_type": "code",
   "execution_count": 30,
   "metadata": {
    "collapsed": false,
    "jupyter": {
     "outputs_hidden": false
    }
   },
   "outputs": [
    {
     "name": "stdout",
     "output_type": "stream",
     "text": [
      "AF : 16.264150943396228  servings\n",
      "AS : 9.068181818181818  servings\n",
      "EU : 142.22222222222223  servings\n",
      "OC : 35.625  servings\n",
      "SA : 62.416666666666664  servings\n"
     ]
    }
   ],
   "source": [
    "wine = drinks.wine_servings\n",
    "wine_avg = wine.groupby('continent').mean()\n",
    "for continent in wine_avg.index:\n",
    "    print(continent, \":\",  wine_avg[continent], \" servings\")"
   ]
  },
  {
   "cell_type": "markdown",
   "metadata": {},
   "source": [
    "### Step 6. Print the mean alcoohol consumption per continent for every column"
   ]
  },
  {
   "cell_type": "code",
   "execution_count": 58,
   "metadata": {
    "collapsed": false,
    "jupyter": {
     "outputs_hidden": false
    }
   },
   "outputs": [
    {
     "name": "stdout",
     "output_type": "stream",
     "text": [
      "Mean alcoohol consumption per continent\n",
      "\n",
      "beer_servings :\n",
      "AF : 61.471698113207545\n",
      "AS : 37.04545454545455\n",
      "EU : 193.77777777777777\n",
      "OC : 89.6875\n",
      "SA : 175.08333333333334\n",
      "\n",
      "\n",
      "spirit_servings :\n",
      "AF : 16.339622641509433\n",
      "AS : 60.84090909090909\n",
      "EU : 132.55555555555554\n",
      "OC : 58.4375\n",
      "SA : 114.75\n",
      "\n",
      "\n",
      "wine_servings :\n",
      "AF : 16.264150943396228\n",
      "AS : 9.068181818181818\n",
      "EU : 142.22222222222223\n",
      "OC : 35.625\n",
      "SA : 62.416666666666664\n",
      "\n",
      "\n",
      "total_litres_of_pure_alcohol :\n",
      "AF : 3.00754716981132\n",
      "AS : 2.1704545454545454\n",
      "EU : 8.617777777777777\n",
      "OC : 3.3812500000000005\n",
      "SA : 6.308333333333334\n",
      "\n",
      "\n"
     ]
    }
   ],
   "source": [
    "print(\"Mean alcoohol consumption per continent\\n\")\n",
    "drinks_avg = drinks.groupby('continent').mean()\n",
    "for column in drinks_avg.columns:\n",
    "    print(column, \":\")\n",
    "    for continent in drinks_avg.index:\n",
    "        print(continent, \":\", drinks_avg.loc[continent,column])\n",
    "    print(\"\\n\")"
   ]
  },
  {
   "cell_type": "markdown",
   "metadata": {},
   "source": [
    "### Step 7. Print the median alcoohol consumption per continent for every column"
   ]
  },
  {
   "cell_type": "code",
   "execution_count": 60,
   "metadata": {
    "collapsed": false,
    "jupyter": {
     "outputs_hidden": false
    }
   },
   "outputs": [
    {
     "name": "stdout",
     "output_type": "stream",
     "text": [
      "Median alcoohol consumption per continent\n",
      "\n",
      "beer_servings :\n",
      "AF : 32.0\n",
      "AS : 17.5\n",
      "EU : 219.0\n",
      "OC : 52.5\n",
      "SA : 162.5\n",
      "\n",
      "\n",
      "spirit_servings :\n",
      "AF : 3.0\n",
      "AS : 16.0\n",
      "EU : 122.0\n",
      "OC : 37.0\n",
      "SA : 108.5\n",
      "\n",
      "\n",
      "wine_servings :\n",
      "AF : 2.0\n",
      "AS : 1.0\n",
      "EU : 128.0\n",
      "OC : 8.5\n",
      "SA : 12.0\n",
      "\n",
      "\n",
      "total_litres_of_pure_alcohol :\n",
      "AF : 2.3\n",
      "AS : 1.2\n",
      "EU : 10.0\n",
      "OC : 1.75\n",
      "SA : 6.85\n",
      "\n",
      "\n"
     ]
    }
   ],
   "source": [
    "print(\"Median alcoohol consumption per continent\\n\")\n",
    "drinks_median = drinks.groupby('continent').median()\n",
    "for column in drinks_median.columns:\n",
    "    print(column, \":\")\n",
    "    for continent in drinks_median.index:\n",
    "        print(continent, \":\", drinks_median.loc[continent,column])\n",
    "    print(\"\\n\")"
   ]
  },
  {
   "cell_type": "markdown",
   "metadata": {},
   "source": [
    "### Step 8. Print the mean, min and max values for spirit consumption.\n",
    "#### This time output a DataFrame"
   ]
  },
  {
   "cell_type": "code",
   "execution_count": 95,
   "metadata": {
    "collapsed": false,
    "jupyter": {
     "outputs_hidden": false
    }
   },
   "outputs": [
    {
     "name": "stdout",
     "output_type": "stream",
     "text": [
      "Mean, min and max values of spirit consumption\n",
      "\n"
     ]
    },
    {
     "data": {
      "text/html": [
       "<div>\n",
       "<style scoped>\n",
       "    .dataframe tbody tr th:only-of-type {\n",
       "        vertical-align: middle;\n",
       "    }\n",
       "\n",
       "    .dataframe tbody tr th {\n",
       "        vertical-align: top;\n",
       "    }\n",
       "\n",
       "    .dataframe thead th {\n",
       "        text-align: right;\n",
       "    }\n",
       "</style>\n",
       "<table border=\"1\" class=\"dataframe\">\n",
       "  <thead>\n",
       "    <tr style=\"text-align: right;\">\n",
       "      <th></th>\n",
       "      <th>smean</th>\n",
       "      <th>smin</th>\n",
       "      <th>smax</th>\n",
       "    </tr>\n",
       "    <tr>\n",
       "      <th>continent</th>\n",
       "      <th></th>\n",
       "      <th></th>\n",
       "      <th></th>\n",
       "    </tr>\n",
       "  </thead>\n",
       "  <tbody>\n",
       "    <tr>\n",
       "      <th>AF</th>\n",
       "      <td>16.339623</td>\n",
       "      <td>0</td>\n",
       "      <td>152</td>\n",
       "    </tr>\n",
       "    <tr>\n",
       "      <th>AS</th>\n",
       "      <td>60.840909</td>\n",
       "      <td>0</td>\n",
       "      <td>326</td>\n",
       "    </tr>\n",
       "    <tr>\n",
       "      <th>EU</th>\n",
       "      <td>132.555556</td>\n",
       "      <td>0</td>\n",
       "      <td>373</td>\n",
       "    </tr>\n",
       "    <tr>\n",
       "      <th>OC</th>\n",
       "      <td>58.437500</td>\n",
       "      <td>0</td>\n",
       "      <td>254</td>\n",
       "    </tr>\n",
       "    <tr>\n",
       "      <th>SA</th>\n",
       "      <td>114.750000</td>\n",
       "      <td>25</td>\n",
       "      <td>302</td>\n",
       "    </tr>\n",
       "    <tr>\n",
       "      <th>Worldwide</th>\n",
       "      <td>80.994819</td>\n",
       "      <td>0</td>\n",
       "      <td>438</td>\n",
       "    </tr>\n",
       "  </tbody>\n",
       "</table>\n",
       "</div>"
      ],
      "text/plain": [
       "                smean  smin  smax\n",
       "continent                        \n",
       "AF          16.339623     0   152\n",
       "AS          60.840909     0   326\n",
       "EU         132.555556     0   373\n",
       "OC          58.437500     0   254\n",
       "SA         114.750000    25   302\n",
       "Worldwide   80.994819     0   438"
      ]
     },
     "execution_count": 95,
     "metadata": {},
     "output_type": "execute_result"
    }
   ],
   "source": [
    "print(\"Mean, min and max values of spirit consumption\\n\")\n",
    "spirits = drinks.spirit_servings\n",
    "\n",
    "axis=0\n",
    "smean_w = spirits.mean(axis=axis)\n",
    "smin_w = spirits.min(axis=axis)\n",
    "smax_w = spirits.max(axis=axis)\n",
    "\n",
    "spirits_group = spirits.groupby('continent')\n",
    "smean = spirits_group.mean()\n",
    "smin = spirits_group.min()\n",
    "smax = spirits_group.max()\n",
    "\n",
    "sdict = dict(smean=smean,smin=smin,smax=smax)\n",
    "\n",
    "spirits_df = pd.DataFrame(sdict, index=smean.index)\n",
    "\n",
    "spirits_df.loc['Worldwide'] = dict(smean=smean_w,smin=smin_w,smax=smax_w)\n",
    "\n",
    "spirits_df"
   ]
  }
 ],
 "metadata": {
  "kernelspec": {
   "display_name": "Python 3",
   "language": "python",
   "name": "python3"
  },
  "language_info": {
   "codemirror_mode": {
    "name": "ipython",
    "version": 3
   },
   "file_extension": ".py",
   "mimetype": "text/x-python",
   "name": "python",
   "nbconvert_exporter": "python",
   "pygments_lexer": "ipython3",
   "version": "3.8.8"
  }
 },
 "nbformat": 4,
 "nbformat_minor": 4
}
